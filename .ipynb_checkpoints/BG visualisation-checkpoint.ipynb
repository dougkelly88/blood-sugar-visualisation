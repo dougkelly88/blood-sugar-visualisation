{
 "cells": [
  {
   "cell_type": "code",
   "execution_count": 2,
   "metadata": {},
   "outputs": [],
   "source": [
    "import numpy as np\n",
    "import matplotlib.pyplot as plt\n",
    "import pandas as pd\n",
    "import datetime\n",
    "import time\n",
    "import math\n",
    "import bghelperfunctions as bg\n",
    "from bghelperfunctions import TimeBandTargets\n",
    "import scipy.ndimage.measurements as im_meas\n",
    "from mpl_toolkits.axes_grid1 import make_axes_locatable\n",
    "\n",
    "%matplotlib inline\n",
    "plt.rcParams['figure.figsize'] = [10, 10]"
   ]
  },
  {
   "cell_type": "markdown",
   "metadata": {},
   "source": [
    "## Data import and munging"
   ]
  },
  {
   "cell_type": "code",
   "execution_count": 3,
   "metadata": {
    "scrolled": false
   },
   "outputs": [],
   "source": [
    "# # generate dummy data\n",
    "# dts = np.array([(datetime.datetime.now()-datetime.timedelta(minutes=30*x)) for x in range(4*30*24*2)]);\n",
    "# bg_max = 15 * 18.0;\n",
    "# bg_min = 2.5 * 18.0;\n",
    "# calibrated_readings_flat = np.array([bg_max/2 + bg_min/2 for dt in dts]);\n",
    "# calibrated_readings_daily_hypo = abs(np.array([2.5*18.0 if dt.hour==(datetime.datetime.now() - datetime.timedelta(hours=1)).hour \n",
    "#                                   else (bg_max/2 + bg_min/2) for dt in dts]) + np.random.normal(loc=0, scale=9.0, size=len(dts)))\n",
    "# calibrated_readings_sine = abs(bg_min + (bg_max - bg_min) * abs(np.sin(np.array([2* math.pi *dt.hour/48 for dt in dts]))) + np.random.normal(loc=0, scale=9.0, size=len(dts)));\n",
    "\n",
    "# df = pd.DataFrame();\n",
    "# df['datetime'] = dts; \n",
    "# df['datetime'] = pd.to_datetime(df['datetime']).dt.round('1s')\n",
    "# df['datetime'] = df['datetime']\n",
    "# df['calibrated_reading'] = calibrated_readings_sine;\n",
    "\n",
    "# df['time'] = df['datetime'].dt.time\n",
    "# df['date'] = df['datetime'].dt.date\n",
    "# df['BG, mmoll-1'] = (df['calibrated_reading']/18.0).round(1)\n",
    "# df.set_index(df['datetime'], inplace=True)\n",
    "\n",
    "# df.head()"
   ]
  },
  {
   "cell_type": "code",
   "execution_count": 4,
   "metadata": {},
   "outputs": [
    {
     "data": {
      "text/html": [
       "<div>\n",
       "<style scoped>\n",
       "    .dataframe tbody tr th:only-of-type {\n",
       "        vertical-align: middle;\n",
       "    }\n",
       "\n",
       "    .dataframe tbody tr th {\n",
       "        vertical-align: top;\n",
       "    }\n",
       "\n",
       "    .dataframe thead th {\n",
       "        text-align: right;\n",
       "    }\n",
       "</style>\n",
       "<table border=\"1\" class=\"dataframe\">\n",
       "  <thead>\n",
       "    <tr style=\"text-align: right;\">\n",
       "      <th></th>\n",
       "      <th>datetime</th>\n",
       "      <th>uncalibrated_reading</th>\n",
       "      <th>calibrated_reading</th>\n",
       "      <th>time</th>\n",
       "      <th>date</th>\n",
       "      <th>BG, mmoll-1</th>\n",
       "    </tr>\n",
       "    <tr>\n",
       "      <th>datetime</th>\n",
       "      <th></th>\n",
       "      <th></th>\n",
       "      <th></th>\n",
       "      <th></th>\n",
       "      <th></th>\n",
       "      <th></th>\n",
       "    </tr>\n",
       "  </thead>\n",
       "  <tbody>\n",
       "    <tr>\n",
       "      <th>2019-07-28 18:24:30</th>\n",
       "      <td>2019-07-28 18:24:30</td>\n",
       "      <td>NaN</td>\n",
       "      <td>82.0</td>\n",
       "      <td>18:24:30</td>\n",
       "      <td>2019-07-28</td>\n",
       "      <td>4.6</td>\n",
       "    </tr>\n",
       "    <tr>\n",
       "      <th>2019-07-28 18:23:30</th>\n",
       "      <td>2019-07-28 18:23:30</td>\n",
       "      <td>NaN</td>\n",
       "      <td>81.0</td>\n",
       "      <td>18:23:30</td>\n",
       "      <td>2019-07-28</td>\n",
       "      <td>4.5</td>\n",
       "    </tr>\n",
       "    <tr>\n",
       "      <th>2019-07-28 18:22:30</th>\n",
       "      <td>2019-07-28 18:22:30</td>\n",
       "      <td>NaN</td>\n",
       "      <td>81.0</td>\n",
       "      <td>18:22:30</td>\n",
       "      <td>2019-07-28</td>\n",
       "      <td>4.5</td>\n",
       "    </tr>\n",
       "    <tr>\n",
       "      <th>2019-07-28 18:21:30</th>\n",
       "      <td>2019-07-28 18:21:30</td>\n",
       "      <td>NaN</td>\n",
       "      <td>81.0</td>\n",
       "      <td>18:21:30</td>\n",
       "      <td>2019-07-28</td>\n",
       "      <td>4.5</td>\n",
       "    </tr>\n",
       "    <tr>\n",
       "      <th>2019-07-28 18:20:30</th>\n",
       "      <td>2019-07-28 18:20:30</td>\n",
       "      <td>NaN</td>\n",
       "      <td>81.0</td>\n",
       "      <td>18:20:30</td>\n",
       "      <td>2019-07-28</td>\n",
       "      <td>4.5</td>\n",
       "    </tr>\n",
       "  </tbody>\n",
       "</table>\n",
       "</div>"
      ],
      "text/plain": [
       "                               datetime  uncalibrated_reading  \\\n",
       "datetime                                                        \n",
       "2019-07-28 18:24:30 2019-07-28 18:24:30                   NaN   \n",
       "2019-07-28 18:23:30 2019-07-28 18:23:30                   NaN   \n",
       "2019-07-28 18:22:30 2019-07-28 18:22:30                   NaN   \n",
       "2019-07-28 18:21:30 2019-07-28 18:21:30                   NaN   \n",
       "2019-07-28 18:20:30 2019-07-28 18:20:30                   NaN   \n",
       "\n",
       "                     calibrated_reading      time        date  BG, mmoll-1  \n",
       "datetime                                                                    \n",
       "2019-07-28 18:24:30                82.0  18:24:30  2019-07-28          4.6  \n",
       "2019-07-28 18:23:30                81.0  18:23:30  2019-07-28          4.5  \n",
       "2019-07-28 18:22:30                81.0  18:22:30  2019-07-28          4.5  \n",
       "2019-07-28 18:21:30                81.0  18:21:30  2019-07-28          4.5  \n",
       "2019-07-28 18:20:30                81.0  18:20:30  2019-07-28          4.5  "
      ]
     },
     "execution_count": 4,
     "metadata": {},
     "output_type": "execute_result"
    }
   ],
   "source": [
    "# import real data\n",
    "df = pd.read_csv('C:\\\\Users\\\\Doug\\\\Dropbox\\\\Apps\\\\Glimp\\\\GlicemiaMisurazioni.csv.gz', \n",
    "                compression='gzip', \n",
    "                header=None, \n",
    "                sep=';',\n",
    "                encoding='utf-16-le', \n",
    "                usecols=[1,4,5], \n",
    "                names=['datetime', 'uncalibrated_reading', 'calibrated_reading'])\n",
    "\n",
    "df['datetime'] = pd.to_datetime(df['datetime'], format='%d/%m/%Y %H.%M.%S').dt.round('1s');\n",
    "df.set_index(df['datetime'], inplace=True)\n",
    "df['time'] = df['datetime'].dt.time\n",
    "df['date'] = df['datetime'].dt.date\n",
    "df['BG, mmoll-1'] = (df['calibrated_reading']/18.0).round(1)\n",
    "df.head()"
   ]
  },
  {
   "cell_type": "markdown",
   "metadata": {},
   "source": [
    "## Today's BGs"
   ]
  },
  {
   "cell_type": "code",
   "execution_count": null,
   "metadata": {
    "scrolled": false
   },
   "outputs": [],
   "source": [
    "fig, ax = plt.subplots(1,1,figsize=[10,5])\n",
    "bg.plot_daily_BG(df, datetime.date.today(), ax)\n",
    "\n",
    "def add_daily_scatter(df, date_to_plot, ax):\n",
    "    \"\"\"for approximate comparison of information with/without CGM\"\"\"\n",
    "    day_df = df.loc[df['date'] == date_to_plot]\n",
    "    meal_times = np.asarray([datetime.time(hour=8, minute=0), \n",
    "                  datetime.time(hour=12, minute=30), \n",
    "                  datetime.time(hour=18, minute=30), \n",
    "                  datetime.time(hour=23, minute=0)])\n",
    "    meal_variability_mins = np.asarray([30, 60, 90, 120])\n",
    "    latest_available_time = day_df['time'].iloc[0]\n",
    "    meal_variability_mins = meal_variability_mins[meal_times < latest_available_time].tolist()\n",
    "    meal_times = meal_times[meal_times < latest_available_time].tolist()\n",
    "    \n",
    "    ts = [bg.mealtime(t, r) for (t, r) in zip(meal_times, meal_variability_mins)]\n",
    "    closest_ts = [day_df['time'][((day_df['time'].apply(lambda x: bg.minus_time(x,t))).abs().argsort()[:1])] for t in ts]\n",
    "    mus = [day_df.loc[day_df['time'] == t]['BG, mmoll-1'] for t in closest_ts]\n",
    "    readings = [np.around(np.random.normal(mu, 0.05)) for mu in mus]\n",
    "    ax.scatter(closest_ts, readings)\n",
    "    \n",
    "# add_daily_scatter(df, datetime.date.today(), ax)\n",
    "plt.show()"
   ]
  },
  {
   "cell_type": "code",
   "execution_count": null,
   "metadata": {},
   "outputs": [],
   "source": []
  },
  {
   "cell_type": "code",
   "execution_count": 13,
   "metadata": {},
   "outputs": [
    {
     "name": "stdout",
     "output_type": "stream",
     "text": [
      "<class 'pandas.core.series.Series'>\n",
      "<class 'pandas.core.series.Series'>\n",
      "<class 'pandas.core.indexes.datetimes.DatetimeIndex'>\n",
      "<class 'pandas.core.indexes.datetimes.DatetimeIndex'>\n"
     ]
    },
    {
     "ename": "ValueError",
     "evalue": "Lengths must match to compare",
     "output_type": "error",
     "traceback": [
      "\u001b[1;31m---------------------------------------------------------------------------\u001b[0m",
      "\u001b[1;31mValueError\u001b[0m                                Traceback (most recent call last)",
      "\u001b[1;32m<ipython-input-13-168a86a97bc2>\u001b[0m in \u001b[0;36m<module>\u001b[1;34m()\u001b[0m\n\u001b[0;32m     21\u001b[0m \u001b[0mprint\u001b[0m\u001b[1;33m(\u001b[0m\u001b[0mtype\u001b[0m\u001b[1;33m(\u001b[0m\u001b[0mt\u001b[0m\u001b[1;33m.\u001b[0m\u001b[0mindex\u001b[0m\u001b[1;33m)\u001b[0m\u001b[1;33m)\u001b[0m\u001b[1;33m\u001b[0m\u001b[0m\n\u001b[0;32m     22\u001b[0m \u001b[0mprint\u001b[0m\u001b[1;33m(\u001b[0m\u001b[0mtype\u001b[0m\u001b[1;33m(\u001b[0m\u001b[0mday_df\u001b[0m\u001b[1;33m.\u001b[0m\u001b[0mindex\u001b[0m\u001b[1;33m)\u001b[0m\u001b[1;33m)\u001b[0m\u001b[1;33m\u001b[0m\u001b[0m\n\u001b[1;32m---> 23\u001b[1;33m \u001b[0mprint\u001b[0m\u001b[1;33m(\u001b[0m\u001b[0mnp\u001b[0m\u001b[1;33m.\u001b[0m\u001b[0mwhere\u001b[0m\u001b[1;33m(\u001b[0m\u001b[0mday_df\u001b[0m\u001b[1;33m.\u001b[0m\u001b[0mindex\u001b[0m \u001b[1;33m==\u001b[0m\u001b[0mt\u001b[0m\u001b[1;33m.\u001b[0m\u001b[0mindex\u001b[0m\u001b[1;33m)\u001b[0m\u001b[1;33m)\u001b[0m\u001b[1;33m\u001b[0m\u001b[0m\n\u001b[0m",
      "\u001b[1;32m~\\Anaconda3\\envs\\tensorflow\\lib\\site-packages\\pandas\\core\\indexes\\datetimes.py\u001b[0m in \u001b[0;36mwrapper\u001b[1;34m(self, other)\u001b[0m\n\u001b[0;32m    136\u001b[0m                 \u001b[0mself\u001b[0m\u001b[1;33m.\u001b[0m\u001b[0m_assert_tzawareness_compat\u001b[0m\u001b[1;33m(\u001b[0m\u001b[0mother\u001b[0m\u001b[1;33m)\u001b[0m\u001b[1;33m\u001b[0m\u001b[0m\n\u001b[0;32m    137\u001b[0m \u001b[1;33m\u001b[0m\u001b[0m\n\u001b[1;32m--> 138\u001b[1;33m             \u001b[0mresult\u001b[0m \u001b[1;33m=\u001b[0m \u001b[0mfunc\u001b[0m\u001b[1;33m(\u001b[0m\u001b[0mnp\u001b[0m\u001b[1;33m.\u001b[0m\u001b[0masarray\u001b[0m\u001b[1;33m(\u001b[0m\u001b[0mother\u001b[0m\u001b[1;33m)\u001b[0m\u001b[1;33m)\u001b[0m\u001b[1;33m\u001b[0m\u001b[0m\n\u001b[0m\u001b[0;32m    139\u001b[0m             \u001b[0mresult\u001b[0m \u001b[1;33m=\u001b[0m \u001b[0mcom\u001b[0m\u001b[1;33m.\u001b[0m\u001b[0m_values_from_object\u001b[0m\u001b[1;33m(\u001b[0m\u001b[0mresult\u001b[0m\u001b[1;33m)\u001b[0m\u001b[1;33m\u001b[0m\u001b[0m\n\u001b[0;32m    140\u001b[0m \u001b[1;33m\u001b[0m\u001b[0m\n",
      "\u001b[1;32m~\\Anaconda3\\envs\\tensorflow\\lib\\site-packages\\pandas\\core\\indexes\\base.py\u001b[0m in \u001b[0;36mcmp_method\u001b[1;34m(self, other)\u001b[0m\n\u001b[0;32m     91\u001b[0m         \u001b[1;32mif\u001b[0m \u001b[0misinstance\u001b[0m\u001b[1;33m(\u001b[0m\u001b[0mother\u001b[0m\u001b[1;33m,\u001b[0m \u001b[1;33m(\u001b[0m\u001b[0mnp\u001b[0m\u001b[1;33m.\u001b[0m\u001b[0mndarray\u001b[0m\u001b[1;33m,\u001b[0m \u001b[0mIndex\u001b[0m\u001b[1;33m,\u001b[0m \u001b[0mABCSeries\u001b[0m\u001b[1;33m)\u001b[0m\u001b[1;33m)\u001b[0m\u001b[1;33m:\u001b[0m\u001b[1;33m\u001b[0m\u001b[0m\n\u001b[0;32m     92\u001b[0m             \u001b[1;32mif\u001b[0m \u001b[0mother\u001b[0m\u001b[1;33m.\u001b[0m\u001b[0mndim\u001b[0m \u001b[1;33m>\u001b[0m \u001b[1;36m0\u001b[0m \u001b[1;32mand\u001b[0m \u001b[0mlen\u001b[0m\u001b[1;33m(\u001b[0m\u001b[0mself\u001b[0m\u001b[1;33m)\u001b[0m \u001b[1;33m!=\u001b[0m \u001b[0mlen\u001b[0m\u001b[1;33m(\u001b[0m\u001b[0mother\u001b[0m\u001b[1;33m)\u001b[0m\u001b[1;33m:\u001b[0m\u001b[1;33m\u001b[0m\u001b[0m\n\u001b[1;32m---> 93\u001b[1;33m                 \u001b[1;32mraise\u001b[0m \u001b[0mValueError\u001b[0m\u001b[1;33m(\u001b[0m\u001b[1;34m'Lengths must match to compare'\u001b[0m\u001b[1;33m)\u001b[0m\u001b[1;33m\u001b[0m\u001b[0m\n\u001b[0m\u001b[0;32m     94\u001b[0m \u001b[1;33m\u001b[0m\u001b[0m\n\u001b[0;32m     95\u001b[0m         \u001b[1;31m# we may need to directly compare underlying\u001b[0m\u001b[1;33m\u001b[0m\u001b[1;33m\u001b[0m\u001b[0m\n",
      "\u001b[1;31mValueError\u001b[0m: Lengths must match to compare"
     ]
    }
   ],
   "source": [
    "date_to_plot = datetime.date.today()\n",
    "day_df = df.loc[df['date'] == date_to_plot]\n",
    "meal_times = np.asarray([datetime.time(hour=8, minute=0), \n",
    "              datetime.time(hour=12, minute=30), \n",
    "              datetime.time(hour=18, minute=30), \n",
    "              datetime.time(hour=23, minute=0)])\n",
    "meal_variability_mins = np.asarray([30, 60, 90, 120])\n",
    "latest_available_time = day_df['time'].iloc[0]\n",
    "meal_variability_mins = meal_variability_mins[meal_times < latest_available_time].tolist()\n",
    "meal_times = meal_times[meal_times < latest_available_time].tolist()\n",
    "\n",
    "ts = [bg.mealtime(t, r) for (t, r) in zip(meal_times, meal_variability_mins)]\n",
    "closest_ts = [day_df['time'][((day_df['time'].apply(lambda x: bg.minus_time(x,t))).abs().argsort()[:1])] for t in ts]\n",
    "\n",
    "# mus = [day_df.loc[day_df['time'] == t]['BG, mmoll-1'] for t in closest_ts]\n",
    "# print(day_df['time'])\n",
    "\n",
    "t = closest_ts[0]\n",
    "print(type(t))\n",
    "print(type(day_df['time']))\n",
    "print(type(t.index))\n",
    "day_df.index.\n",
    "print(np.where(day_df.index ==t.index))"
   ]
  },
  {
   "cell_type": "markdown",
   "metadata": {},
   "source": [
    "## This week's BGs"
   ]
  },
  {
   "cell_type": "code",
   "execution_count": null,
   "metadata": {
    "scrolled": false
   },
   "outputs": [],
   "source": [
    "plt.rcParams['figure.figsize'] = [10, 10]\n",
    "sunday = bg.lastWday(datetime.date.today() - datetime.timedelta(days=0), 6)\n",
    "weekdays = ['Sun', 'Mon', 'Tue', 'Wed', 'Thu', 'Fri', 'Sat']\n",
    "\n",
    "fig2, ax2 = plt.subplots(4,2, figsize=[10,10])\n",
    "for didx in range(7):\n",
    "    date = sunday + datetime.timedelta(days=didx)\n",
    "    axidx = (int(math.floor(didx/2)), didx % 2)\n",
    "    if date <= datetime.date.today():\n",
    "        bg.plot_daily_BG(df, date, ax2[axidx])\n",
    "#         bg.add_daily_scatter(df, date, ax2[axidx])\n",
    "        ax2[axidx].set_title(date.strftime(\"%a %b %d, %Y\"))\n",
    "    else:\n",
    "        ax2[axidx].set_visible(False)\n",
    "ax2[-1,1].set_visible(False)\n",
    "plt.tight_layout()\n"
   ]
  },
  {
   "cell_type": "markdown",
   "metadata": {},
   "source": [
    "## Long-term pattern spotting\n",
    "\n",
    "Display a median/interquartile range line plot to show how blood sugar typically varies with time of day over a set period. Also display the percentage of time spent within set limits at different distinct times of day, and a colormap showing the occurance of hypoglycaemic episodes over a long period. "
   ]
  },
  {
   "cell_type": "code",
   "execution_count": null,
   "metadata": {},
   "outputs": [],
   "source": [
    "enddate = datetime.date.today()\n",
    "startdate = datetime.date.today() - datetime.timedelta(days=28*3)\n",
    "# %prun ax = bg.plot_long_term_BG(df, startdate, enddate, time_smoothing_s=600)\n",
    "ax = bg.plot_long_term_BG(df, startdate, enddate, time_smoothing_s=600)"
   ]
  },
  {
   "cell_type": "code",
   "execution_count": null,
   "metadata": {
    "scrolled": false
   },
   "outputs": [],
   "source": [
    "time_band_targetses = [];\n",
    "time_band_targetses.append(TimeBandTargets());\n",
    "time_band_targetses.append(TimeBandTargets(time_band_name='Pre-breakfast',\n",
    "                                           time_start_end=(7,8),\n",
    "                                           target_bg=(4.0, 8.0)))\n",
    "time_band_targetses.append(TimeBandTargets(time_band_name='Pre-lunch',\n",
    "                                           time_start_end=(10.5,12),\n",
    "                                           target_bg=(3.5, 8.0)))\n",
    "time_band_targetses.append(TimeBandTargets(time_band_name='Pre-dinner',\n",
    "                                           time_start_end=(16,18),\n",
    "                                           target_bg=(3.5, 8.0)))\n",
    "\n",
    "output = bg.percentageTimeInTarget(df, startdate, enddate, time_band_targetses);"
   ]
  },
  {
   "cell_type": "code",
   "execution_count": null,
   "metadata": {
    "scrolled": false
   },
   "outputs": [],
   "source": [
    "# %prun bg.plot_hypos(df, startdate, enddate)\n",
    "bg.plot_hypos(df, startdate, enddate);"
   ]
  },
  {
   "cell_type": "code",
   "execution_count": null,
   "metadata": {},
   "outputs": [],
   "source": []
  }
 ],
 "metadata": {
  "kernelspec": {
   "display_name": "Python 3",
   "language": "python",
   "name": "python3"
  }
 },
 "nbformat": 4,
 "nbformat_minor": 1
}
