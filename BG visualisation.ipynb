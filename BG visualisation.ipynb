{
 "cells": [
  {
   "cell_type": "code",
   "execution_count": 118,
   "metadata": {},
   "outputs": [],
   "source": [
    "import numpy as np\n",
    "import matplotlib.pyplot as plt\n",
    "import pandas as pd\n",
    "import datetime\n",
    "import time\n",
    "import math"
   ]
  },
  {
   "cell_type": "markdown",
   "metadata": {},
   "source": [
    "## Helper functions"
   ]
  },
  {
   "cell_type": "code",
   "execution_count": 204,
   "metadata": {},
   "outputs": [],
   "source": [
    "def minus_time(t1, t2):\n",
    "    a = datetime.timedelta(hours=t1.hour, minutes=t1.minute, seconds=t1.second)\n",
    "    b = datetime.timedelta(hours=t2.hour, minutes=t2.minute, seconds=t2.second)\n",
    "    return a - b\n",
    "    \n",
    "def mealtime(time_in, variability_in_mins):\n",
    "    mu = datetime.timedelta(hours=time_in.hour, minutes=time_in.minute).total_seconds()\n",
    "    sigma = variability_in_mins * 60 / 5\n",
    "    meal_time_s = np.random.normal(mu, sigma)\n",
    "    h = int(math.floor(meal_time_s / (60 * 60)))\n",
    "    m = int(math.floor((meal_time_s - h * 60 * 60)/60))\n",
    "    s = int(math.floor(meal_time_s - h * 60 * 60 - m * 60))\n",
    "    meal_time = datetime.time(hour=h, minute=m, second=s)\n",
    "    return meal_time\n",
    "    \n",
    "def add_daily_scatter(df, date_to_plot, ax):\n",
    "    day_df = df.loc[df['date'] == date_to_plot]\n",
    "    meal_times = np.asarray([datetime.time(hour=8, minute=0), \n",
    "                  datetime.time(hour=12, minute=30), \n",
    "                  datetime.time(hour=18, minute=30), \n",
    "                  datetime.time(hour=23, minute=0)])\n",
    "    meal_variability_mins = np.asarray([30, 60, 90, 120])\n",
    "    latest_available_time = day_df['time'].iloc[0]\n",
    "    meal_variability_mins = meal_variability_mins[meal_times < latest_available_time].tolist()\n",
    "    meal_times = meal_times[meal_times < latest_available_time].tolist()\n",
    "    \n",
    "    ts = [mealtime(t, r) for (t, r) in zip(meal_times, meal_variability_mins)]\n",
    "    closest_ts = [day_df['time'][((day_df['time'].apply(lambda x: minus_time(x,t))).abs().argsort()[:1])] for t in ts]\n",
    "    mus = [day_df.loc[day_df['time'] == t]['BG, mmoll-1'] for t in closest_ts]\n",
    "    readings = [np.around(np.random.normal(mu, 0.05)) for mu in mus]\n",
    "    ax.scatter(closest_ts, readings)\n",
    "    \n",
    "\n",
    "def plot_daily_BG(df, date_to_plot):\n",
    "    ax = df.loc[df['date'] == date_to_plot].set_index(df.loc[df['date'] == date_to_plot]['time'])['BG, mmoll-1'].plot()\n",
    "    ax.set_ylabel('BG, mmoll-1')\n",
    "    ax.set_xlabel('Time')\n",
    "    ax.set_ylim((2.0, 18.0))\n",
    "    t = [datetime.time(hour=4*x) for x in range(6)]\n",
    "    t.append(datetime.time(hour=23, minute=59))\n",
    "    ax.set_xticks(t)\n",
    "    ax.axhspan(2.0, 3.5, alpha=0.5, color='r')\n",
    "    ax.axhspan(12.0, 18.0, alpha=0.5, color='r')\n",
    "    ax.axhspan(8.0, 12.0, alpha=0.5, color='orange')\n",
    "    add_daily_scatter(df, date_to_plot,  ax)\n",
    "    \n",
    "def lastWday(adate, w):\n",
    "    MON, TUE, WED, THU, FRI, SAT, SUN = range(7)\n",
    "    \"\"\"Mon:w=0, Sun:w=6\"\"\"\n",
    "    delta = (adate.weekday() + 6 - w) % 7 + 1\n",
    "    return adate - datetime.timedelta(days=delta)"
   ]
  },
  {
   "cell_type": "markdown",
   "metadata": {},
   "source": [
    "## Data import and munging"
   ]
  },
  {
   "cell_type": "code",
   "execution_count": 163,
   "metadata": {},
   "outputs": [
    {
     "data": {
      "text/html": [
       "<div>\n",
       "<style scoped>\n",
       "    .dataframe tbody tr th:only-of-type {\n",
       "        vertical-align: middle;\n",
       "    }\n",
       "\n",
       "    .dataframe tbody tr th {\n",
       "        vertical-align: top;\n",
       "    }\n",
       "\n",
       "    .dataframe thead th {\n",
       "        text-align: right;\n",
       "    }\n",
       "</style>\n",
       "<table border=\"1\" class=\"dataframe\">\n",
       "  <thead>\n",
       "    <tr style=\"text-align: right;\">\n",
       "      <th></th>\n",
       "      <th>datetime</th>\n",
       "      <th>reading1</th>\n",
       "      <th>reading2</th>\n",
       "      <th>readingtype</th>\n",
       "      <th>time</th>\n",
       "      <th>date</th>\n",
       "      <th>BG, mmoll-1</th>\n",
       "    </tr>\n",
       "    <tr>\n",
       "      <th>datetime</th>\n",
       "      <th></th>\n",
       "      <th></th>\n",
       "      <th></th>\n",
       "      <th></th>\n",
       "      <th></th>\n",
       "      <th></th>\n",
       "      <th></th>\n",
       "    </tr>\n",
       "  </thead>\n",
       "  <tbody>\n",
       "    <tr>\n",
       "      <th>2018-07-23 13:54:30</th>\n",
       "      <td>2018-07-23 13:54:30</td>\n",
       "      <td>157.0</td>\n",
       "      <td>157.0</td>\n",
       "      <td>5</td>\n",
       "      <td>13:54:30</td>\n",
       "      <td>2018-07-23</td>\n",
       "      <td>8.7</td>\n",
       "    </tr>\n",
       "    <tr>\n",
       "      <th>2018-07-23 13:53:30</th>\n",
       "      <td>2018-07-23 13:53:30</td>\n",
       "      <td>156.0</td>\n",
       "      <td>156.0</td>\n",
       "      <td>5</td>\n",
       "      <td>13:53:30</td>\n",
       "      <td>2018-07-23</td>\n",
       "      <td>8.7</td>\n",
       "    </tr>\n",
       "    <tr>\n",
       "      <th>2018-07-23 13:52:30</th>\n",
       "      <td>2018-07-23 13:52:30</td>\n",
       "      <td>155.0</td>\n",
       "      <td>155.0</td>\n",
       "      <td>5</td>\n",
       "      <td>13:52:30</td>\n",
       "      <td>2018-07-23</td>\n",
       "      <td>8.6</td>\n",
       "    </tr>\n",
       "    <tr>\n",
       "      <th>2018-07-23 13:51:30</th>\n",
       "      <td>2018-07-23 13:51:30</td>\n",
       "      <td>154.0</td>\n",
       "      <td>154.0</td>\n",
       "      <td>5</td>\n",
       "      <td>13:51:30</td>\n",
       "      <td>2018-07-23</td>\n",
       "      <td>8.6</td>\n",
       "    </tr>\n",
       "    <tr>\n",
       "      <th>2018-07-23 13:50:30</th>\n",
       "      <td>2018-07-23 13:50:30</td>\n",
       "      <td>152.0</td>\n",
       "      <td>152.0</td>\n",
       "      <td>5</td>\n",
       "      <td>13:50:30</td>\n",
       "      <td>2018-07-23</td>\n",
       "      <td>8.4</td>\n",
       "    </tr>\n",
       "  </tbody>\n",
       "</table>\n",
       "</div>"
      ],
      "text/plain": [
       "                               datetime  reading1  reading2  readingtype  \\\n",
       "datetime                                                                   \n",
       "2018-07-23 13:54:30 2018-07-23 13:54:30     157.0     157.0            5   \n",
       "2018-07-23 13:53:30 2018-07-23 13:53:30     156.0     156.0            5   \n",
       "2018-07-23 13:52:30 2018-07-23 13:52:30     155.0     155.0            5   \n",
       "2018-07-23 13:51:30 2018-07-23 13:51:30     154.0     154.0            5   \n",
       "2018-07-23 13:50:30 2018-07-23 13:50:30     152.0     152.0            5   \n",
       "\n",
       "                         time        date  BG, mmoll-1  \n",
       "datetime                                                \n",
       "2018-07-23 13:54:30  13:54:30  2018-07-23          8.7  \n",
       "2018-07-23 13:53:30  13:53:30  2018-07-23          8.7  \n",
       "2018-07-23 13:52:30  13:52:30  2018-07-23          8.6  \n",
       "2018-07-23 13:51:30  13:51:30  2018-07-23          8.6  \n",
       "2018-07-23 13:50:30  13:50:30  2018-07-23          8.4  "
      ]
     },
     "execution_count": 163,
     "metadata": {},
     "output_type": "execute_result"
    }
   ],
   "source": [
    "df = pd.read_csv('./FormattedBGReading.csv', \n",
    "                header=None, \n",
    "                usecols=[1,2,3,4],\n",
    "                names=['datetime', 'reading1', 'reading2', 'readingtype'],\n",
    "                #dtype={'datetime':str, 'reading1':np.float64, 'reading2':np.float64, 'readingtype':np.float64}\n",
    "                parse_dates=['datetime']\n",
    "                )\n",
    "df['datetime'] = pd.to_datetime(df['datetime'], format='%d/%m/%Y %H.%M.%S')\n",
    "df['time'] = df['datetime'].dt.time\n",
    "df['date'] = df['datetime'].dt.date\n",
    "df['BG, mmoll-1'] = (df['reading1']/18.0).round(1)\n",
    "df.set_index(df['datetime'], inplace=True)\n",
    "df.head()"
   ]
  },
  {
   "cell_type": "markdown",
   "metadata": {},
   "source": [
    "## Today's BGs"
   ]
  },
  {
   "cell_type": "code",
   "execution_count": 196,
   "metadata": {},
   "outputs": [
    {
     "data": {
      "image/png": "[encoded data removed]",
      "text/plain": [
       "<Figure size 432x288 with 1 Axes>"
      ]
     },
     "metadata": {},
     "output_type": "display_data"
    }
   ],
   "source": [
    "plot_daily_BG(df, datetime.date.today())\n"
   ]
  },
  {
   "cell_type": "markdown",
   "metadata": {},
   "source": [
    "## This week's BGs"
   ]
  },
  {
   "cell_type": "code",
   "execution_count": 222,
   "metadata": {},
   "outputs": [
    {
     "name": "stdout",
     "output_type": "stream",
     "text": [
      "2018-07-22\n"
     ]
    },
    {
     "data": {
      "image/png": "[encoded data removed]",
      "text/plain": [
       "<Figure size 432x288 with 8 Axes>"
      ]
     },
     "metadata": {},
     "output_type": "display_data"
    }
   ],
   "source": [
    "sunday = lastWday(datetime.date.today(), 6)\n",
    "weekdays = ['Sun', 'Mon', 'Tue', 'Wed', 'Thu', 'Fri', 'Sat']\n",
    "\n",
    "fig2, ax2 = plt.subplots(4,2)\n",
    "for didx in range(7):\n",
    "    date = datetime.date.today() - datetime.timedelta(days=didx)\n",
    "    #print(\"[\"+str(int(math.floor(didx/2)))+\", \"+str(didx % 2)+\"]\")\n",
    "    ax2[int(math.floor(didx/2)), didx % 2].set_title(weekdays[didx])\n",
    "ax2[-1,1].set_visible(False)\n",
    "plt.tight_layout()"
   ]
  },
  {
   "cell_type": "code",
   "execution_count": null,
   "metadata": {},
   "outputs": [],
   "source": []
  }
 ],
 "metadata": {
  "kernelspec": {
   "display_name": "Python 2",
   "language": "python",
   "name": "python2"
  },
  "language_info": {
   "codemirror_mode": {
    "name": "ipython",
    "version": 2
   },
   "file_extension": ".py",
   "mimetype": "text/x-python",
   "name": "python",
   "nbconvert_exporter": "python",
   "pygments_lexer": "ipython2",
   "version": "2.7.15"
  }
 },
 "nbformat": 4,
 "nbformat_minor": 1
}
